{
 "cells": [
  {
   "cell_type": "markdown",
   "metadata": {},
   "source": ["# 张量与 Autograd 示例\n这是一个基本的 PyTorch 自动求导例子。"]
  },
  {
   "cell_type": "code",
   "execution_count": null,
   "metadata": {},
   "outputs": [],
   "source": [
    "import torch\n",
    "x = torch.tensor([2.0], requires_grad=True)\n",
    "y = x ** 2 + 3 * x + 1\n",
    "y.backward()\n",
    "print(f'dy/dx = {x.grad}')"
   ]
  }
 ],
 "metadata": {
  "kernelspec": {
   "display_name": "Python 3",
   "language": "python",
   "name": "python3"
  },
  "language_info": {
   "name": "python",
   "version": "3.9"
  }
 },
 "nbformat": 4,
 "nbformat_minor": 2
}
